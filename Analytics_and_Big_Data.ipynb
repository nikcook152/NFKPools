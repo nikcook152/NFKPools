{
  "cells": [
    {
      "cell_type": "markdown",
      "metadata": {
        "id": "view-in-github",
        "colab_type": "text"
      },
      "source": [
        "<a href=\"https://colab.research.google.com/github/nikcook152/NFKPools/blob/main/Analytics_and_Big_Data.ipynb\" target=\"_parent\"><img src=\"https://colab.research.google.com/assets/colab-badge.svg\" alt=\"Open In Colab\"/></a>"
      ]
    },
    {
      "cell_type": "markdown",
      "source": [
        "# Environment Insights"
      ],
      "metadata": {
        "id": "LjJ7Qto7qHIn"
      }
    },
    {
      "cell_type": "code",
      "source": [
        "from psutil import virtual_memory\n",
        "ram_gb = virtual_memory().total / 1e9\n",
        "print('Your runtime has {:.1f} gigabytes of available RAM\\n'.format(ram_gb))\n",
        "\n",
        "if ram_gb < 20:\n",
        "  print('Not using a high-RAM runtime')\n",
        "else:\n",
        "  print('You are using a high-RAM runtime!')\n",
        "\n",
        "gpu_info = !nvidia-smi\n",
        "gpu_info = '\\n'.join(gpu_info)\n",
        "if gpu_info.find('failed') >= 0:\n",
        "  print('Not connected to a GPU')\n",
        "else:\n",
        "  print(gpu_info)"
      ],
      "metadata": {
        "colab": {
          "base_uri": "https://localhost:8080/"
        },
        "id": "OWN-8qLDp3FF",
        "outputId": "a0b5f204-64a4-47fe-d9a9-18c77259acc9"
      },
      "execution_count": 79,
      "outputs": [
        {
          "output_type": "stream",
          "name": "stdout",
          "text": [
            "Your runtime has 13.6 gigabytes of available RAM\n",
            "\n",
            "Not using a high-RAM runtime\n",
            "Not connected to a GPU\n"
          ]
        }
      ]
    },
    {
      "cell_type": "markdown",
      "metadata": {
        "id": "UIRLZ5PBwMko"
      },
      "source": [
        "#Setup"
      ]
    },
    {
      "cell_type": "markdown",
      "source": [
        "### Library Import "
      ],
      "metadata": {
        "id": "_HIFlbwNiY51"
      }
    },
    {
      "cell_type": "code",
      "source": [
        "import os\n",
        "import numpy as np\n",
        "import pandas as pd\n",
        "import matplotlib.pyplot as plt\n",
        "\n",
        "# import warnings filter\n",
        "from warnings import simplefilter\n",
        "# ignore warnings\n",
        "simplefilter(action='ignore', category=FutureWarning)\n",
        "simplefilter(action='ignore', category=DeprecationWarning)"
      ],
      "metadata": {
        "id": "DkhpqBSoicLh"
      },
      "execution_count": 4,
      "outputs": []
    },
    {
      "cell_type": "markdown",
      "source": [
        "### Data Import"
      ],
      "metadata": {
        "id": "iePjd2fMihaX"
      }
    },
    {
      "cell_type": "code",
      "source": [
        "data_ori = pd.read_csv('https://drive.google.com/u/0/uc?id=1KukM45VgI1kLQwtVdGvAuex7DT6TFf12&export=download')\n",
        "#print(data)"
      ],
      "metadata": {
        "id": "rLxW42lBftwY"
      },
      "execution_count": 48,
      "outputs": []
    },
    {
      "cell_type": "markdown",
      "source": [
        "## Preprocessing"
      ],
      "metadata": {
        "id": "a9pOxS9jkwKF"
      }
    },
    {
      "cell_type": "markdown",
      "source": [
        "### Norminal Features"
      ],
      "metadata": {
        "id": "2Ni8GCPYkzG0"
      }
    },
    {
      "cell_type": "markdown",
      "source": [
        "#### Gender"
      ],
      "metadata": {
        "id": "l4ZS23Ole5rT"
      }
    },
    {
      "cell_type": "code",
      "source": [
        "data_ori = data_ori.replace({'F':0, 'M':1})"
      ],
      "metadata": {
        "id": "qBhyPKoypThh"
      },
      "execution_count": 49,
      "outputs": []
    },
    {
      "cell_type": "markdown",
      "source": [
        "#### Occupation"
      ],
      "metadata": {
        "id": "TSvA0xUI7wPt"
      }
    },
    {
      "cell_type": "code",
      "source": [
        "occupation = pd.get_dummies(data_ori['Occupation'])           #create dummies\n",
        "occupation = occupation.drop(columns = [20])                  #prevent perfect correlation occupation.columns[20], axis=1\n",
        "data_ori = pd.concat([data_ori, occupation], axis=1)          #merge\n",
        "data_ori = data_ori.drop(columns = ['Occupation'])            #delete old Occupation"
      ],
      "metadata": {
        "id": "1_KscN5k72er"
      },
      "execution_count": 51,
      "outputs": []
    },
    {
      "cell_type": "markdown",
      "source": [
        "#### City_Category"
      ],
      "metadata": {
        "id": "sq7Wwr1sXnxC"
      }
    },
    {
      "cell_type": "code",
      "source": [
        "city_cat = pd.get_dummies(data_ori['City_Category'])        #create dummies\n",
        "city_cat = city_cat.drop(columns = ['C'])                   #prevent perfect correlation\n",
        "data_ori = pd.concat([data_ori, city_cat], axis=1)          #merge\n",
        "data_ori = data_ori.drop(columns = ['City_Category'])       #delete old Occupation"
      ],
      "metadata": {
        "id": "tPeq4OMUXqXh"
      },
      "execution_count": null,
      "outputs": []
    },
    {
      "cell_type": "markdown",
      "source": [
        "#### Maritial_Status\n",
        "This Feature is already correctly formatted, changing just the naming to make it more clear"
      ],
      "metadata": {
        "id": "XcvJb-OtYaZ0"
      }
    },
    {
      "cell_type": "code",
      "source": [
        "data_ori = data_ori.rename(columns={'Marital_Status': 'Married'})"
      ],
      "metadata": {
        "id": "t_ynzwzOYnAw"
      },
      "execution_count": null,
      "outputs": []
    },
    {
      "cell_type": "markdown",
      "source": [
        "### Ordinal Features"
      ],
      "metadata": {
        "id": "Thz9B4iak2Hm"
      }
    },
    {
      "cell_type": "markdown",
      "source": [
        "#### Age"
      ],
      "metadata": {
        "id": "WF48EiiDZSQB"
      }
    },
    {
      "cell_type": "code",
      "source": [
        "data_ori['Age'] = data_ori['Age'].replace({'0-17':  1, \n",
        "                                           '18-25': 2,\n",
        "                                           '26-35': 3,\n",
        "                                           '36-45': 4,\n",
        "                                           '46-50': 5,\n",
        "                                           '51-55': 6,\n",
        "                                           '55+': 7})"
      ],
      "metadata": {
        "id": "y5IHfI8qZT3Q"
      },
      "execution_count": 57,
      "outputs": []
    },
    {
      "cell_type": "markdown",
      "source": [
        "#### Stay_In_Current_City_Years"
      ],
      "metadata": {
        "id": "XWRZ5wtYapFt"
      }
    },
    {
      "cell_type": "code",
      "source": [
        "data_ori['Stay_In_Current_City_Years'] = data_ori['Stay_In_Current_City_Years'].replace({'4+': 4})\n",
        "data_ori['Stay_In_Current_City_Years'] = pd.to_numeric(data_ori['Stay_In_Current_City_Years'])      #turn strings into integer"
      ],
      "metadata": {
        "id": "VjxGRT9haqLd"
      },
      "execution_count": 72,
      "outputs": []
    },
    {
      "cell_type": "markdown",
      "source": [
        "### Other Preprocessing"
      ],
      "metadata": {
        "id": "afp3O4qxk9fL"
      }
    },
    {
      "cell_type": "markdown",
      "source": [
        "#### Clean Product_ID"
      ],
      "metadata": {
        "id": "SLzo2HuycNFI"
      }
    },
    {
      "cell_type": "code",
      "source": [
        "data_ori['Product_ID'] = data_ori['Product_ID'].replace({'P':''}, regex=True)   #Delete leading P's\n",
        "data_ori['Product_ID'] = pd.to_numeric(data_ori['Product_ID'])                  #turn strings into integer"
      ],
      "metadata": {
        "id": "qIGE5ytEcRUp"
      },
      "execution_count": 69,
      "outputs": []
    },
    {
      "cell_type": "code",
      "source": [
        "print(data_ori.head())\n",
        "print(data_ori.dtypes)"
      ],
      "metadata": {
        "id": "R2LXRTqSpU1x"
      },
      "execution_count": null,
      "outputs": []
    },
    {
      "cell_type": "code",
      "source": [
        ""
      ],
      "metadata": {
        "id": "PFiu8kKgd5cY"
      },
      "execution_count": null,
      "outputs": []
    },
    {
      "cell_type": "markdown",
      "source": [
        "# Other Rossbach stuff"
      ],
      "metadata": {
        "id": "V4GbHhn-d1gD"
      }
    },
    {
      "cell_type": "code",
      "execution_count": 78,
      "metadata": {
        "colab": {
          "base_uri": "https://localhost:8080/"
        },
        "id": "jWatWo8ImHXf",
        "outputId": "880a09c1-db32-479e-d775-d7a323bac3e7"
      },
      "outputs": [
        {
          "output_type": "stream",
          "name": "stdout",
          "text": [
            "---Data ori Shape---\n",
            "(550068, 32)\n",
            "---Data ori DTypes---\n",
            "User_ID                         int64\n",
            "Product_ID                      int64\n",
            "Gender                          int64\n",
            "Age                             int64\n",
            "Stay_In_Current_City_Years      int64\n",
            "Married                         int64\n",
            "Product_Category_1              int64\n",
            "Product_Category_2            float64\n",
            "Product_Category_3            float64\n",
            "Purchase                        int64\n",
            "0                               uint8\n",
            "1                               uint8\n",
            "2                               uint8\n",
            "3                               uint8\n",
            "4                               uint8\n",
            "5                               uint8\n",
            "6                               uint8\n",
            "7                               uint8\n",
            "8                               uint8\n",
            "9                               uint8\n",
            "10                              uint8\n",
            "11                              uint8\n",
            "12                              uint8\n",
            "13                              uint8\n",
            "14                              uint8\n",
            "15                              uint8\n",
            "16                              uint8\n",
            "17                              uint8\n",
            "18                              uint8\n",
            "19                              uint8\n",
            "A                               uint8\n",
            "B                               uint8\n",
            "dtype: object\n",
            "---Data ori Feature Names---\n",
            "['User_ID', 'Product_ID', 'Gender', 'Age', 'Stay_In_Current_City_Years', 'Married', 'Product_Category_1', 'Product_Category_2', 'Product_Category_3', 'Purchase', 0, 1, 2, 3, 4, 5, 6, 7, 8, 9, 10, 11, 12, 13, 14, 15, 16, 17, 18, 19, 'A', 'B']\n",
            "---Data ori Heads---\n",
            "   User_ID  Product_ID  Gender  Age  Stay_In_Current_City_Years  Married  \\\n",
            "0  1000001       69042       0    1                           2        0   \n",
            "1  1000001      248942       0    1                           2        0   \n",
            "2  1000001       87842       0    1                           2        0   \n",
            "3  1000001       85442       0    1                           2        0   \n",
            "4  1000002      285442       1    7                           4        0   \n",
            "5  1000003      193542       1    3                           3        0   \n",
            "\n",
            "   Product_Category_1  Product_Category_2  Product_Category_3  Purchase  ...  \\\n",
            "0                   3                 NaN                 NaN      8370  ...   \n",
            "1                   1                 6.0                14.0     15200  ...   \n",
            "2                  12                 NaN                 NaN      1422  ...   \n",
            "3                  12                14.0                 NaN      1057  ...   \n",
            "4                   8                 NaN                 NaN      7969  ...   \n",
            "5                   1                 2.0                 NaN     15227  ...   \n",
            "\n",
            "   12  13  14  15  16  17  18  19  A  B  \n",
            "0   0   0   0   0   0   0   0   0  1  0  \n",
            "1   0   0   0   0   0   0   0   0  1  0  \n",
            "2   0   0   0   0   0   0   0   0  1  0  \n",
            "3   0   0   0   0   0   0   0   0  1  0  \n",
            "4   0   0   0   0   1   0   0   0  0  0  \n",
            "5   0   0   0   1   0   0   0   0  1  0  \n",
            "\n",
            "[6 rows x 32 columns]\n",
            "---Data ori Descriptions---\n",
            "            User_ID     Product_ID         Gender            Age  \\\n",
            "count  5.500680e+05  550068.000000  550068.000000  550068.000000   \n",
            "mean   1.003029e+06  174744.814667       0.753105       3.496430   \n",
            "std    1.727592e+03  102746.516956       0.431205       1.353632   \n",
            "min    1.000001e+06     142.000000       0.000000       1.000000   \n",
            "25%    1.001516e+06   97142.000000       1.000000       3.000000   \n",
            "50%    1.003077e+06  169742.000000       1.000000       3.000000   \n",
            "75%    1.004478e+06  259142.000000       1.000000       4.000000   \n",
            "max    1.006040e+06  375436.000000       1.000000       7.000000   \n",
            "\n",
            "       Stay_In_Current_City_Years        Married  Product_Category_1  \\\n",
            "count               550068.000000  550068.000000       550068.000000   \n",
            "mean                     1.858418       0.409653            5.404270   \n",
            "std                      1.289443       0.491770            3.936211   \n",
            "min                      0.000000       0.000000            1.000000   \n",
            "25%                      1.000000       0.000000            1.000000   \n",
            "50%                      2.000000       0.000000            5.000000   \n",
            "75%                      3.000000       1.000000            8.000000   \n",
            "max                      4.000000       1.000000           20.000000   \n",
            "\n",
            "       Product_Category_2  Product_Category_3       Purchase  ...  \\\n",
            "count       376430.000000       166821.000000  550068.000000  ...   \n",
            "mean             9.842329           12.668243    9263.968713  ...   \n",
            "std              5.086590            4.125338    5023.065394  ...   \n",
            "min              2.000000            3.000000      12.000000  ...   \n",
            "25%              5.000000            9.000000    5823.000000  ...   \n",
            "50%              9.000000           14.000000    8047.000000  ...   \n",
            "75%             15.000000           16.000000   12054.000000  ...   \n",
            "max             18.000000           18.000000   23961.000000  ...   \n",
            "\n",
            "                  12             13             14             15  \\\n",
            "count  550068.000000  550068.000000  550068.000000  550068.000000   \n",
            "mean        0.056682       0.014049       0.049647       0.022115   \n",
            "std         0.231234       0.117694       0.217214       0.147059   \n",
            "min         0.000000       0.000000       0.000000       0.000000   \n",
            "25%         0.000000       0.000000       0.000000       0.000000   \n",
            "50%         0.000000       0.000000       0.000000       0.000000   \n",
            "75%         0.000000       0.000000       0.000000       0.000000   \n",
            "max         1.000000       1.000000       1.000000       1.000000   \n",
            "\n",
            "                  16             17             18             19  \\\n",
            "count  550068.000000  550068.000000  550068.000000  550068.000000   \n",
            "mean        0.046123       0.072796       0.012039       0.015382   \n",
            "std         0.209752       0.259802       0.109058       0.123066   \n",
            "min         0.000000       0.000000       0.000000       0.000000   \n",
            "25%         0.000000       0.000000       0.000000       0.000000   \n",
            "50%         0.000000       0.000000       0.000000       0.000000   \n",
            "75%         0.000000       0.000000       0.000000       0.000000   \n",
            "max         1.000000       1.000000       1.000000       1.000000   \n",
            "\n",
            "                   A              B  \n",
            "count  550068.000000  550068.000000  \n",
            "mean        0.268549       0.420263  \n",
            "std         0.443205       0.493601  \n",
            "min         0.000000       0.000000  \n",
            "25%         0.000000       0.000000  \n",
            "50%         0.000000       0.000000  \n",
            "75%         1.000000       1.000000  \n",
            "max         1.000000       1.000000  \n",
            "\n",
            "[8 rows x 32 columns]\n",
            "---Standardizing---\n",
            "    User_ID  Product_ID  Gender       Age  Stay_In_Current_City_Years  \\\n",
            "0  0.000000    0.183589     0.0  0.000000                        0.50   \n",
            "1  0.000000    0.662947     0.0  0.000000                        0.50   \n",
            "2  0.000000    0.233683     0.0  0.000000                        0.50   \n",
            "3  0.000000    0.227288     0.0  0.000000                        0.50   \n",
            "4  0.000166    0.760204     1.0  1.000000                        1.00   \n",
            "5  0.000331    0.515329     1.0  0.333333                        0.75   \n",
            "\n",
            "   Married  Product_Category_1  Product_Category_2  Product_Category_3  \\\n",
            "0      0.0            0.105263                 NaN                 NaN   \n",
            "1      0.0            0.000000                0.25            0.733333   \n",
            "2      0.0            0.578947                 NaN                 NaN   \n",
            "3      0.0            0.578947                0.75                 NaN   \n",
            "4      0.0            0.368421                 NaN                 NaN   \n",
            "5      0.0            0.000000                0.00                 NaN   \n",
            "\n",
            "   Purchase  ...   12   13   14   15   16   17   18   19    A    B  \n",
            "0  0.348992  ...  0.0  0.0  0.0  0.0  0.0  0.0  0.0  0.0  1.0  0.0  \n",
            "1  0.634181  ...  0.0  0.0  0.0  0.0  0.0  0.0  0.0  0.0  1.0  0.0  \n",
            "2  0.058875  ...  0.0  0.0  0.0  0.0  0.0  0.0  0.0  0.0  1.0  0.0  \n",
            "3  0.043634  ...  0.0  0.0  0.0  0.0  0.0  0.0  0.0  0.0  1.0  0.0  \n",
            "4  0.332248  ...  0.0  0.0  0.0  0.0  1.0  0.0  0.0  0.0  0.0  0.0  \n",
            "5  0.635308  ...  0.0  0.0  0.0  1.0  0.0  0.0  0.0  0.0  1.0  0.0  \n",
            "\n",
            "[6 rows x 32 columns]\n",
            "---Train Shape---\n",
            "(275034,)\n",
            "---Test Shape---\n",
            "(275034,)\n",
            "275034\n",
            "Y_train_mean = 0.38565631393618655\n",
            "Y_train_meandev = 12092.788024496562\n",
            "Y_test_meandev = 12105.399122621515\n"
          ]
        }
      ],
      "source": [
        "\n",
        "print(\"---Data ori Shape---\")\n",
        "print(data_ori.shape)\n",
        "# types\n",
        "print(\"---Data ori DTypes---\")\n",
        "print(data_ori.dtypes)\n",
        "# feature names\n",
        "print(\"---Data ori Feature Names---\")\n",
        "print(list(data_ori))\n",
        "# head\n",
        "print(\"---Data ori Heads---\")\n",
        "print(data_ori.head(6))\n",
        "# descriptions\n",
        "print(\"---Data ori Descriptions---\")\n",
        "print(data_ori.describe())\n",
        "\n",
        "# standardize data = (data_ori-data_ori.mean())/data_ori.std()\n",
        "data=(data_ori-data_ori.min())/(data_ori.max()-data_ori.min())\n",
        "print(\"---Standardizing---\")\n",
        "print(data.head(6))\n",
        "\n",
        "X = data.drop('Purchase', axis = 1)\n",
        "Y = data['Purchase']\n",
        "\n",
        "from sklearn.model_selection import train_test_split\n",
        "training_set_percentage = 0.01 #@param {type:\"slider\", min:0, max:1, step:0.01}\n",
        "X_train, X_test, Y_train, Y_test = train_test_split(X, Y, test_size = 1-training_set_percentage, random_state=0)\n",
        "print(\"---Train Shape---\")\n",
        "print(Y_train.shape)\n",
        "print(\"---Test Shape---\")\n",
        "print(Y_test.shape)\n",
        "print(len(Y_test))\n",
        "\n",
        "Y_train_mean = Y_train.mean()\n",
        "print(\"Y_train_mean =\", Y_train_mean)\n",
        "Y_train_meandev = sum((Y_train-Y_train_mean)**2)\n",
        "print(\"Y_train_meandev =\", Y_train_meandev)\n",
        "Y_test_meandev = sum((Y_test-Y_train_mean)**2)\n",
        "print(\"Y_test_meandev =\", Y_test_meandev)\n",
        "\n",
        "# create report dataframe\n",
        "report = pd.DataFrame(columns=['Model','R2.Train','R2.Test','R2_Mean_CV','R2_Std_CV'])"
      ]
    },
    {
      "cell_type": "markdown",
      "metadata": {
        "id": "zhbJAF-owt4Z"
      },
      "source": [
        "# Models"
      ]
    },
    {
      "cell_type": "markdown",
      "metadata": {
        "id": "9VP85OpXwwfR"
      },
      "source": [
        "### OLS"
      ]
    },
    {
      "cell_type": "code",
      "execution_count": null,
      "metadata": {
        "colab": {
          "base_uri": "https://localhost:8080/"
        },
        "id": "-Lh1qFYJwv1Z",
        "outputId": "904fe941-d979-4d4e-ce69-22208b0d9430"
      },
      "outputs": [
        {
          "name": "stdout",
          "output_type": "stream",
          "text": [
            "R2 = 0.15527827172868602\n",
            "Pseudo-R2 = 0.1551245275492117\n",
            "{'fit_intercept': True}\n",
            "R2 = 0.15527827172868602\n",
            "Pseudo-R2 = 0.1551245275492117\n"
          ]
        }
      ],
      "source": [
        "from sklearn.linear_model import LinearRegression\n",
        "lm = LinearRegression()\n",
        "lm.fit(X_train, Y_train)\n",
        "Y_train_pred = lm.predict(X_train)\n",
        "Y_train_dev = sum((Y_train-Y_train_pred)**2)\n",
        "r2 = 1 - Y_train_dev/Y_train_meandev\n",
        "print(\"R2 =\", r2)\n",
        "Y_test_pred = lm.predict(X_test)\n",
        "Y_test_dev = sum((Y_test-Y_test_pred)**2)\n",
        "pseudor2 = 1 - Y_test_dev/Y_test_meandev\n",
        "print(\"Pseudo-R2 =\", pseudor2)\n",
        "report.loc[len(report)] = ['OLS RegressionCV', r2, pseudor2, \"\", \"\"]\n",
        "\n",
        "# OLS with Cross Validation and Grid Search\n",
        "from sklearn.linear_model import LinearRegression\n",
        "lmCV = LinearRegression()\n",
        "from sklearn.model_selection import GridSearchCV\n",
        "param_grid = { \n",
        "    'fit_intercept':[True,False]\n",
        "}\n",
        "CV_olsmodel = GridSearchCV(estimator=lmCV, param_grid=param_grid, cv=10)\n",
        "CV_olsmodel.fit(X_train, Y_train)\n",
        "print(CV_olsmodel.best_params_)\n",
        "lmCV = lmCV.set_params(**CV_olsmodel.best_params_)\n",
        "lmCV.fit(X_train, Y_train)\n",
        "Y_train_pred = lmCV.predict(X_train)\n",
        "Y_train_dev = sum((Y_train-Y_train_pred)**2)\n",
        "r2 = 1 - Y_train_dev/Y_train_meandev\n",
        "print(\"R2 =\", r2)\n",
        "Y_test_pred = lmCV.predict(X_test)\n",
        "Y_test_dev = sum((Y_test-Y_test_pred)**2)\n",
        "pseudor2 = 1 - Y_test_dev/Y_test_meandev\n",
        "print(\"Pseudo-R2 =\", pseudor2)\n",
        "report.loc[len(report)] = ['OLS RegressionCV', r2, pseudor2,\n",
        "           CV_olsmodel.cv_results_['mean_test_score'][CV_olsmodel.best_index_],\n",
        "           CV_olsmodel.cv_results_['std_test_score'][CV_olsmodel.best_index_]]"
      ]
    },
    {
      "cell_type": "markdown",
      "metadata": {
        "id": "y3-wN3gVw1hW"
      },
      "source": [
        "### Ridge Regression"
      ]
    },
    {
      "cell_type": "code",
      "execution_count": null,
      "metadata": {
        "colab": {
          "base_uri": "https://localhost:8080/"
        },
        "id": "HoSlAVe8w84N",
        "outputId": "a1c6fed7-c321-4047-f081-054ddbeb97cf"
      },
      "outputs": [
        {
          "name": "stdout",
          "output_type": "stream",
          "text": [
            "R2 = 0.15527827167402486\n",
            "Pseudo-R2 = 0.1551245398235217\n",
            "{'alpha': 3}\n",
            "R2 = 0.15527826976211256\n",
            "Pseudo-R2 = 0.1551245995429037\n"
          ]
        }
      ],
      "source": [
        "from sklearn.linear_model import Ridge\n",
        "ridgereg = Ridge(alpha=0.5)\n",
        "ridgereg.fit(X_train, Y_train)\n",
        "Y_train_pred = ridgereg.predict(X_train)\n",
        "Y_train_dev = sum((Y_train-Y_train_pred)**2)\n",
        "r2 = 1 - Y_train_dev/Y_train_meandev\n",
        "print(\"R2 =\", r2)\n",
        "Y_test_pred = ridgereg.predict(X_test)\n",
        "Y_test_dev = sum((Y_test-Y_test_pred)**2)\n",
        "pseudor2 = 1 - Y_test_dev/Y_test_meandev\n",
        "print(\"Pseudo-R2 =\", pseudor2)\n",
        "\n",
        "# find best lambda (alphas)\n",
        "from sklearn.linear_model import Ridge\n",
        "ridgeregCV = Ridge()\n",
        "from sklearn.model_selection import GridSearchCV\n",
        "param_grid = { \n",
        "    'alpha': [25,10,4,3,2,1.0,0.8,0.5,0.3,0.2,0.1,0.05,0.02,0.01,0]\n",
        "}\n",
        "CV_rrmodel = GridSearchCV(estimator=ridgeregCV, param_grid=param_grid, cv=10)\n",
        "CV_rrmodel.fit(X_train, Y_train)\n",
        "print(CV_rrmodel.best_params_)\n",
        "ridgeregCV = ridgeregCV.set_params(**CV_rrmodel.best_params_)\n",
        "ridgeregCV.fit(X_train, Y_train)\n",
        "Y_train_pred = ridgeregCV.predict(X_train)\n",
        "Y_train_dev = sum((Y_train-Y_train_pred)**2)\n",
        "r2 = 1 - Y_train_dev/Y_train_meandev\n",
        "print(\"R2 =\", r2)\n",
        "Y_test_pred = ridgeregCV.predict(X_test)\n",
        "Y_test_dev = sum((Y_test-Y_test_pred)**2)\n",
        "pseudor2 = 1 - Y_test_dev/Y_test_meandev\n",
        "print(\"Pseudo-R2 =\", pseudor2)\n",
        "report.loc[len(report)] = ['Ridge RegressionCV', r2, pseudor2,\n",
        "           CV_rrmodel.cv_results_['mean_test_score'][CV_rrmodel.best_index_],\n",
        "           CV_rrmodel.cv_results_['std_test_score'][CV_rrmodel.best_index_]]"
      ]
    },
    {
      "cell_type": "markdown",
      "metadata": {
        "id": "qRpijD15w-YS"
      },
      "source": [
        "### Support Vector Regression"
      ]
    },
    {
      "cell_type": "code",
      "execution_count": null,
      "metadata": {
        "colab": {
          "background_save": true,
          "base_uri": "https://localhost:8080/",
          "height": 502
        },
        "id": "sNXuE55VxGqp",
        "outputId": "17d17878-b051-47fe-9f35-4ea05b556828"
      },
      "outputs": [
        {
          "name": "stdout",
          "output_type": "stream",
          "text": [
            "linear kernel\n",
            "R2 = 0.13385207970627333\n"
          ]
        },
        {
          "ename": "ValueError",
          "evalue": "ignored",
          "output_type": "error",
          "traceback": [
            "\u001b[0;31m---------------------------------------------------------------------------\u001b[0m",
            "\u001b[0;31mValueError\u001b[0m                                Traceback (most recent call last)",
            "\u001b[0;32m<ipython-input-7-40924e2379ac>\u001b[0m in \u001b[0;36m<module>\u001b[0;34m()\u001b[0m\n\u001b[1;32m      9\u001b[0m \u001b[0mprint\u001b[0m\u001b[0;34m(\u001b[0m\u001b[0;34m\"R2 =\"\u001b[0m\u001b[0;34m,\u001b[0m \u001b[0mr2\u001b[0m\u001b[0;34m)\u001b[0m\u001b[0;34m\u001b[0m\u001b[0;34m\u001b[0m\u001b[0m\n\u001b[1;32m     10\u001b[0m \u001b[0mY_test_pred\u001b[0m \u001b[0;34m=\u001b[0m \u001b[0mLinSVRreg\u001b[0m\u001b[0;34m.\u001b[0m\u001b[0mpredict\u001b[0m\u001b[0;34m(\u001b[0m\u001b[0mX_test\u001b[0m\u001b[0;34m)\u001b[0m\u001b[0;34m\u001b[0m\u001b[0;34m\u001b[0m\u001b[0m\n\u001b[0;32m---> 11\u001b[0;31m \u001b[0mY_test_dev\u001b[0m \u001b[0;34m=\u001b[0m \u001b[0msum\u001b[0m\u001b[0;34m(\u001b[0m\u001b[0;34m(\u001b[0m\u001b[0mY_test\u001b[0m\u001b[0;34m-\u001b[0m\u001b[0mY_test_pred\u001b[0m\u001b[0;34m)\u001b[0m\u001b[0;34m**\u001b[0m\u001b[0;36m2\u001b[0m\u001b[0;34m)\u001b[0m\u001b[0;34m\u001b[0m\u001b[0;34m\u001b[0m\u001b[0m\n\u001b[0m\u001b[1;32m     12\u001b[0m \u001b[0mpseudor2\u001b[0m \u001b[0;34m=\u001b[0m \u001b[0;36m1\u001b[0m \u001b[0;34m-\u001b[0m \u001b[0mY_test_dev\u001b[0m\u001b[0;34m/\u001b[0m\u001b[0mY_test_meandev\u001b[0m\u001b[0;34m\u001b[0m\u001b[0;34m\u001b[0m\u001b[0m\n\u001b[1;32m     13\u001b[0m \u001b[0mprint\u001b[0m\u001b[0;34m(\u001b[0m\u001b[0;34m\"Pseudo-R2 =\"\u001b[0m\u001b[0;34m,\u001b[0m \u001b[0mpseudor2\u001b[0m\u001b[0;34m)\u001b[0m\u001b[0;34m\u001b[0m\u001b[0;34m\u001b[0m\u001b[0m\n",
            "\u001b[0;32m/usr/local/lib/python3.7/dist-packages/pandas/core/ops/common.py\u001b[0m in \u001b[0;36mnew_method\u001b[0;34m(self, other)\u001b[0m\n\u001b[1;32m     67\u001b[0m         \u001b[0mother\u001b[0m \u001b[0;34m=\u001b[0m \u001b[0mitem_from_zerodim\u001b[0m\u001b[0;34m(\u001b[0m\u001b[0mother\u001b[0m\u001b[0;34m)\u001b[0m\u001b[0;34m\u001b[0m\u001b[0;34m\u001b[0m\u001b[0m\n\u001b[1;32m     68\u001b[0m \u001b[0;34m\u001b[0m\u001b[0m\n\u001b[0;32m---> 69\u001b[0;31m         \u001b[0;32mreturn\u001b[0m \u001b[0mmethod\u001b[0m\u001b[0;34m(\u001b[0m\u001b[0mself\u001b[0m\u001b[0;34m,\u001b[0m \u001b[0mother\u001b[0m\u001b[0;34m)\u001b[0m\u001b[0;34m\u001b[0m\u001b[0;34m\u001b[0m\u001b[0m\n\u001b[0m\u001b[1;32m     70\u001b[0m \u001b[0;34m\u001b[0m\u001b[0m\n\u001b[1;32m     71\u001b[0m     \u001b[0;32mreturn\u001b[0m \u001b[0mnew_method\u001b[0m\u001b[0;34m\u001b[0m\u001b[0;34m\u001b[0m\u001b[0m\n",
            "\u001b[0;32m/usr/local/lib/python3.7/dist-packages/pandas/core/arraylike.py\u001b[0m in \u001b[0;36m__sub__\u001b[0;34m(self, other)\u001b[0m\n\u001b[1;32m     98\u001b[0m     \u001b[0;34m@\u001b[0m\u001b[0munpack_zerodim_and_defer\u001b[0m\u001b[0;34m(\u001b[0m\u001b[0;34m\"__sub__\"\u001b[0m\u001b[0;34m)\u001b[0m\u001b[0;34m\u001b[0m\u001b[0;34m\u001b[0m\u001b[0m\n\u001b[1;32m     99\u001b[0m     \u001b[0;32mdef\u001b[0m \u001b[0m__sub__\u001b[0m\u001b[0;34m(\u001b[0m\u001b[0mself\u001b[0m\u001b[0;34m,\u001b[0m \u001b[0mother\u001b[0m\u001b[0;34m)\u001b[0m\u001b[0;34m:\u001b[0m\u001b[0;34m\u001b[0m\u001b[0;34m\u001b[0m\u001b[0m\n\u001b[0;32m--> 100\u001b[0;31m         \u001b[0;32mreturn\u001b[0m \u001b[0mself\u001b[0m\u001b[0;34m.\u001b[0m\u001b[0m_arith_method\u001b[0m\u001b[0;34m(\u001b[0m\u001b[0mother\u001b[0m\u001b[0;34m,\u001b[0m \u001b[0moperator\u001b[0m\u001b[0;34m.\u001b[0m\u001b[0msub\u001b[0m\u001b[0;34m)\u001b[0m\u001b[0;34m\u001b[0m\u001b[0;34m\u001b[0m\u001b[0m\n\u001b[0m\u001b[1;32m    101\u001b[0m \u001b[0;34m\u001b[0m\u001b[0m\n\u001b[1;32m    102\u001b[0m     \u001b[0;34m@\u001b[0m\u001b[0munpack_zerodim_and_defer\u001b[0m\u001b[0;34m(\u001b[0m\u001b[0;34m\"__rsub__\"\u001b[0m\u001b[0;34m)\u001b[0m\u001b[0;34m\u001b[0m\u001b[0;34m\u001b[0m\u001b[0m\n",
            "\u001b[0;32m/usr/local/lib/python3.7/dist-packages/pandas/core/series.py\u001b[0m in \u001b[0;36m_arith_method\u001b[0;34m(self, other, op)\u001b[0m\n\u001b[1;32m   5524\u001b[0m \u001b[0;34m\u001b[0m\u001b[0m\n\u001b[1;32m   5525\u001b[0m         \u001b[0;32mwith\u001b[0m \u001b[0mnp\u001b[0m\u001b[0;34m.\u001b[0m\u001b[0merrstate\u001b[0m\u001b[0;34m(\u001b[0m\u001b[0mall\u001b[0m\u001b[0;34m=\u001b[0m\u001b[0;34m\"ignore\"\u001b[0m\u001b[0;34m)\u001b[0m\u001b[0;34m:\u001b[0m\u001b[0;34m\u001b[0m\u001b[0;34m\u001b[0m\u001b[0m\n\u001b[0;32m-> 5526\u001b[0;31m             \u001b[0mresult\u001b[0m \u001b[0;34m=\u001b[0m \u001b[0mops\u001b[0m\u001b[0;34m.\u001b[0m\u001b[0marithmetic_op\u001b[0m\u001b[0;34m(\u001b[0m\u001b[0mlvalues\u001b[0m\u001b[0;34m,\u001b[0m \u001b[0mrvalues\u001b[0m\u001b[0;34m,\u001b[0m \u001b[0mop\u001b[0m\u001b[0;34m)\u001b[0m\u001b[0;34m\u001b[0m\u001b[0;34m\u001b[0m\u001b[0m\n\u001b[0m\u001b[1;32m   5527\u001b[0m \u001b[0;34m\u001b[0m\u001b[0m\n\u001b[1;32m   5528\u001b[0m         \u001b[0;32mreturn\u001b[0m \u001b[0mself\u001b[0m\u001b[0;34m.\u001b[0m\u001b[0m_construct_result\u001b[0m\u001b[0;34m(\u001b[0m\u001b[0mresult\u001b[0m\u001b[0;34m,\u001b[0m \u001b[0mname\u001b[0m\u001b[0;34m=\u001b[0m\u001b[0mres_name\u001b[0m\u001b[0;34m)\u001b[0m\u001b[0;34m\u001b[0m\u001b[0;34m\u001b[0m\u001b[0m\n",
            "\u001b[0;32m/usr/local/lib/python3.7/dist-packages/pandas/core/ops/array_ops.py\u001b[0m in \u001b[0;36marithmetic_op\u001b[0;34m(left, right, op)\u001b[0m\n\u001b[1;32m    222\u001b[0m         \u001b[0m_bool_arith_check\u001b[0m\u001b[0;34m(\u001b[0m\u001b[0mop\u001b[0m\u001b[0;34m,\u001b[0m \u001b[0mleft\u001b[0m\u001b[0;34m,\u001b[0m \u001b[0mright\u001b[0m\u001b[0;34m)\u001b[0m\u001b[0;34m\u001b[0m\u001b[0;34m\u001b[0m\u001b[0m\n\u001b[1;32m    223\u001b[0m \u001b[0;34m\u001b[0m\u001b[0m\n\u001b[0;32m--> 224\u001b[0;31m         \u001b[0mres_values\u001b[0m \u001b[0;34m=\u001b[0m \u001b[0m_na_arithmetic_op\u001b[0m\u001b[0;34m(\u001b[0m\u001b[0mleft\u001b[0m\u001b[0;34m,\u001b[0m \u001b[0mright\u001b[0m\u001b[0;34m,\u001b[0m \u001b[0mop\u001b[0m\u001b[0;34m)\u001b[0m\u001b[0;34m\u001b[0m\u001b[0;34m\u001b[0m\u001b[0m\n\u001b[0m\u001b[1;32m    225\u001b[0m \u001b[0;34m\u001b[0m\u001b[0m\n\u001b[1;32m    226\u001b[0m     \u001b[0;32mreturn\u001b[0m \u001b[0mres_values\u001b[0m\u001b[0;34m\u001b[0m\u001b[0;34m\u001b[0m\u001b[0m\n",
            "\u001b[0;32m/usr/local/lib/python3.7/dist-packages/pandas/core/ops/array_ops.py\u001b[0m in \u001b[0;36m_na_arithmetic_op\u001b[0;34m(left, right, op, is_cmp)\u001b[0m\n\u001b[1;32m    164\u001b[0m \u001b[0;34m\u001b[0m\u001b[0m\n\u001b[1;32m    165\u001b[0m     \u001b[0;32mtry\u001b[0m\u001b[0;34m:\u001b[0m\u001b[0;34m\u001b[0m\u001b[0;34m\u001b[0m\u001b[0m\n\u001b[0;32m--> 166\u001b[0;31m         \u001b[0mresult\u001b[0m \u001b[0;34m=\u001b[0m \u001b[0mfunc\u001b[0m\u001b[0;34m(\u001b[0m\u001b[0mleft\u001b[0m\u001b[0;34m,\u001b[0m \u001b[0mright\u001b[0m\u001b[0;34m)\u001b[0m\u001b[0;34m\u001b[0m\u001b[0;34m\u001b[0m\u001b[0m\n\u001b[0m\u001b[1;32m    167\u001b[0m     \u001b[0;32mexcept\u001b[0m \u001b[0mTypeError\u001b[0m\u001b[0;34m:\u001b[0m\u001b[0;34m\u001b[0m\u001b[0;34m\u001b[0m\u001b[0m\n\u001b[1;32m    168\u001b[0m         \u001b[0;32mif\u001b[0m \u001b[0mis_object_dtype\u001b[0m\u001b[0;34m(\u001b[0m\u001b[0mleft\u001b[0m\u001b[0;34m)\u001b[0m \u001b[0;32mor\u001b[0m \u001b[0mis_object_dtype\u001b[0m\u001b[0;34m(\u001b[0m\u001b[0mright\u001b[0m\u001b[0;34m)\u001b[0m \u001b[0;32mand\u001b[0m \u001b[0;32mnot\u001b[0m \u001b[0mis_cmp\u001b[0m\u001b[0;34m:\u001b[0m\u001b[0;34m\u001b[0m\u001b[0;34m\u001b[0m\u001b[0m\n",
            "\u001b[0;32m/usr/local/lib/python3.7/dist-packages/pandas/core/computation/expressions.py\u001b[0m in \u001b[0;36mevaluate\u001b[0;34m(op, a, b, use_numexpr)\u001b[0m\n\u001b[1;32m    237\u001b[0m         \u001b[0;32mif\u001b[0m \u001b[0muse_numexpr\u001b[0m\u001b[0;34m:\u001b[0m\u001b[0;34m\u001b[0m\u001b[0;34m\u001b[0m\u001b[0m\n\u001b[1;32m    238\u001b[0m             \u001b[0;31m# error: \"None\" not callable\u001b[0m\u001b[0;34m\u001b[0m\u001b[0;34m\u001b[0m\u001b[0;34m\u001b[0m\u001b[0m\n\u001b[0;32m--> 239\u001b[0;31m             \u001b[0;32mreturn\u001b[0m \u001b[0m_evaluate\u001b[0m\u001b[0;34m(\u001b[0m\u001b[0mop\u001b[0m\u001b[0;34m,\u001b[0m \u001b[0mop_str\u001b[0m\u001b[0;34m,\u001b[0m \u001b[0ma\u001b[0m\u001b[0;34m,\u001b[0m \u001b[0mb\u001b[0m\u001b[0;34m)\u001b[0m  \u001b[0;31m# type: ignore[misc]\u001b[0m\u001b[0;34m\u001b[0m\u001b[0;34m\u001b[0m\u001b[0m\n\u001b[0m\u001b[1;32m    240\u001b[0m     \u001b[0;32mreturn\u001b[0m \u001b[0m_evaluate_standard\u001b[0m\u001b[0;34m(\u001b[0m\u001b[0mop\u001b[0m\u001b[0;34m,\u001b[0m \u001b[0mop_str\u001b[0m\u001b[0;34m,\u001b[0m \u001b[0ma\u001b[0m\u001b[0;34m,\u001b[0m \u001b[0mb\u001b[0m\u001b[0;34m)\u001b[0m\u001b[0;34m\u001b[0m\u001b[0;34m\u001b[0m\u001b[0m\n\u001b[1;32m    241\u001b[0m \u001b[0;34m\u001b[0m\u001b[0m\n",
            "\u001b[0;32m/usr/local/lib/python3.7/dist-packages/pandas/core/computation/expressions.py\u001b[0m in \u001b[0;36m_evaluate_numexpr\u001b[0;34m(op, op_str, a, b)\u001b[0m\n\u001b[1;32m    126\u001b[0m \u001b[0;34m\u001b[0m\u001b[0m\n\u001b[1;32m    127\u001b[0m     \u001b[0;32mif\u001b[0m \u001b[0mresult\u001b[0m \u001b[0;32mis\u001b[0m \u001b[0;32mNone\u001b[0m\u001b[0;34m:\u001b[0m\u001b[0;34m\u001b[0m\u001b[0;34m\u001b[0m\u001b[0m\n\u001b[0;32m--> 128\u001b[0;31m         \u001b[0mresult\u001b[0m \u001b[0;34m=\u001b[0m \u001b[0m_evaluate_standard\u001b[0m\u001b[0;34m(\u001b[0m\u001b[0mop\u001b[0m\u001b[0;34m,\u001b[0m \u001b[0mop_str\u001b[0m\u001b[0;34m,\u001b[0m \u001b[0ma\u001b[0m\u001b[0;34m,\u001b[0m \u001b[0mb\u001b[0m\u001b[0;34m)\u001b[0m\u001b[0;34m\u001b[0m\u001b[0;34m\u001b[0m\u001b[0m\n\u001b[0m\u001b[1;32m    129\u001b[0m \u001b[0;34m\u001b[0m\u001b[0m\n\u001b[1;32m    130\u001b[0m     \u001b[0;32mreturn\u001b[0m \u001b[0mresult\u001b[0m\u001b[0;34m\u001b[0m\u001b[0;34m\u001b[0m\u001b[0m\n",
            "\u001b[0;32m/usr/local/lib/python3.7/dist-packages/pandas/core/computation/expressions.py\u001b[0m in \u001b[0;36m_evaluate_standard\u001b[0;34m(op, op_str, a, b)\u001b[0m\n\u001b[1;32m     67\u001b[0m     \u001b[0;32mif\u001b[0m \u001b[0m_TEST_MODE\u001b[0m\u001b[0;34m:\u001b[0m\u001b[0;34m\u001b[0m\u001b[0;34m\u001b[0m\u001b[0m\n\u001b[1;32m     68\u001b[0m         \u001b[0m_store_test_result\u001b[0m\u001b[0;34m(\u001b[0m\u001b[0;32mFalse\u001b[0m\u001b[0;34m)\u001b[0m\u001b[0;34m\u001b[0m\u001b[0;34m\u001b[0m\u001b[0m\n\u001b[0;32m---> 69\u001b[0;31m     \u001b[0;32mreturn\u001b[0m \u001b[0mop\u001b[0m\u001b[0;34m(\u001b[0m\u001b[0ma\u001b[0m\u001b[0;34m,\u001b[0m \u001b[0mb\u001b[0m\u001b[0;34m)\u001b[0m\u001b[0;34m\u001b[0m\u001b[0;34m\u001b[0m\u001b[0m\n\u001b[0m\u001b[1;32m     70\u001b[0m \u001b[0;34m\u001b[0m\u001b[0m\n\u001b[1;32m     71\u001b[0m \u001b[0;34m\u001b[0m\u001b[0m\n",
            "\u001b[0;31mValueError\u001b[0m: operands could not be broadcast together with shapes (81685,) (544568,) "
          ]
        }
      ],
      "source": [
        "# linear kernel\n",
        "print(\"linear kernel\")\n",
        "from sklearn.svm import SVR\n",
        "LinSVRreg = SVR(kernel='linear', C=1.0, epsilon=0.1)\n",
        "LinSVRreg.fit(X_train, Y_train)\n",
        "Y_train_pred = LinSVRreg.predict(X_train)\n",
        "Y_train_dev = sum((Y_train-Y_train_pred)**2)\n",
        "r2 = 1 - Y_train_dev/Y_train_meandev\n",
        "print(\"R2 =\", r2)\n",
        "Y_test_pred = LinSVRreg.predict(X_test)\n",
        "Y_test_dev = sum((Y_test-Y_test_pred)**2)\n",
        "pseudor2 = 1 - Y_test_dev/Y_test_meandev\n",
        "print(\"Pseudo-R2 =\", pseudor2)\n",
        "\n",
        "# radial kernel\n",
        "print(\"radial kernel\")\n",
        "RbfSVRreg = SVR(kernel='rbf', C=1.0, epsilon=0.1)\n",
        "RbfSVRreg.fit(X_train, Y_train)\n",
        "Y_train_pred = RbfSVRreg.predict(X_train)\n",
        "Y_train_dev = sum((Y_train-Y_train_pred)**2)\n",
        "r2 = 1 - Y_train_dev/Y_train_meandev\n",
        "print(\"R2 =\", r2)\n",
        "Y_test_pred = RbfSVRreg.predict(X_test)\n",
        "Y_test_dev = sum((Y_test-Y_test_pred)**2)\n",
        "pseudor2 = 1 - Y_test_dev/Y_test_meandev\n",
        "print(\"Pseudo-R2 =\", pseudor2)\n",
        "\n",
        "from sklearn.svm import SVR\n",
        "RbfSVRregCV = SVR()\n",
        "from sklearn.model_selection import GridSearchCV\n",
        "param_grid = { \n",
        "    'kernel': [\"rbf\"],                                                          #[\"linear\", \"rbf\"]\n",
        "    'C': [1],                                                                   #[1, 3, 5, 8, 10] \n",
        "    'epsilon': [0.1],                                                           #[0.0, 0.025, 0.05, 0.075, 0.1]\n",
        "    'gamma' : [0., 1.]                                                           #[0., 1., 2., 3., 4.]\n",
        "}\n",
        "CV_svrmodel = GridSearchCV(estimator=RbfSVRregCV, param_grid=param_grid, cv=10)\n",
        "CV_svrmodel.fit(X_train, Y_train)\n",
        "print(CV_svrmodel.best_params_)\n",
        "RbfSVRregCV = RbfSVRregCV.set_params(**CV_svrmodel.best_params_)\n",
        "RbfSVRregCV.fit(X_train, Y_train)\n",
        "Y_train_pred = RbfSVRregCV.predict(X_train)\n",
        "Y_train_dev = sum((Y_train-Y_train_pred)**2)\n",
        "r2 = 1 - Y_train_dev/Y_train_meandev\n",
        "print(\"R2 =\", r2)\n",
        "Y_test_pred = RbfSVRregCV.predict(X_test)\n",
        "Y_test_dev = sum((Y_test-Y_test_pred)**2)\n",
        "pseudor2 = 1 - Y_test_dev/Y_test_meandev\n",
        "print(\"Pseudo-R2 =\", pseudor2)\n",
        "report.loc[len(report)] = ['Support Vector RegressionCV', r2, pseudor2,\n",
        "           CV_svrmodel.cv_results_['mean_test_score'][CV_svrmodel.best_index_],\n",
        "           CV_svrmodel.cv_results_['std_test_score'][CV_svrmodel.best_index_]]"
      ]
    },
    {
      "cell_type": "markdown",
      "metadata": {
        "id": "QjYIUATexJhD"
      },
      "source": [
        "## Neural Networks"
      ]
    },
    {
      "cell_type": "code",
      "execution_count": null,
      "metadata": {
        "id": "0_GkWFBbxLOi"
      },
      "outputs": [],
      "source": [
        "from sklearn.neural_network import MLPRegressor\n",
        "NNetRregCV = MLPRegressor(solver='lbfgs', random_state=0)\n",
        "from sklearn.model_selection import GridSearchCV\n",
        "param_grid = { \n",
        "    'hidden_layer_sizes': [(5,), (8,), (10,), (13,)],\n",
        "    'alpha': [0.0, 0.0025, 0.005, 0.0075, 0.01, 0.1],\n",
        "    'activation': [\"logistic\", \"tanh\"]\n",
        "}\n",
        "CV_nnmodel = GridSearchCV(estimator=NNetRregCV, param_grid=param_grid, cv=10)\n",
        "CV_nnmodel.fit(X_train, Y_train)\n",
        "print(CV_nnmodel.best_params_)\n",
        "NNetRregCV = NNetRregCV.set_params(**CV_nnmodel.best_params_)\n",
        "NNetRregCV.fit(X_train, Y_train)\n",
        "Y_train_pred = NNetRregCV.predict(X_train)\n",
        "Y_train_dev = sum((Y_train-Y_train_pred)**2)\n",
        "r2 = 1 - Y_train_dev/Y_train_meandev\n",
        "print(\"R2 =\", r2)\n",
        "Y_test_pred = NNetRregCV.predict(X_test)\n",
        "Y_test_dev = sum((Y_test-Y_test_pred)**2)\n",
        "pseudor2 = 1 - Y_test_dev/Y_test_meandev\n",
        "print(\"Pseudo-R2 =\", pseudor2)\n",
        "report.loc[len(report)] = ['Neural NetworkCV', r2, pseudor2,\n",
        "           CV_nnmodel.cv_results_['mean_test_score'][CV_nnmodel.best_index_],\n",
        "           CV_nnmodel.cv_results_['std_test_score'][CV_nnmodel.best_index_]]"
      ]
    },
    {
      "cell_type": "markdown",
      "metadata": {
        "id": "Rr0M_fVgxPLU"
      },
      "source": [
        "## Random Forest"
      ]
    },
    {
      "cell_type": "code",
      "execution_count": null,
      "metadata": {
        "colab": {
          "background_save": true
        },
        "id": "0IIXNN54xR5Y",
        "outputId": "e10ece4e-a2fc-4b7f-ef19-4ac6c649a87f"
      },
      "outputs": [
        {
          "name": "stdout",
          "output_type": "stream",
          "text": [
            "{'max_depth': 10.0, 'n_estimators': 400}\n",
            "R2 = 0.7568164674987872\n",
            "Pseudo-R2 = 0.6740633040793843\n"
          ]
        }
      ],
      "source": [
        "from sklearn.ensemble import RandomForestRegressor\n",
        "RForregCV = RandomForestRegressor(random_state=0)\n",
        "from sklearn.model_selection import GridSearchCV\n",
        "param_grid = { \n",
        "    'max_depth': [ 4.,  5.,  6.,  7.,  8.],\n",
        "    'n_estimators': [ 10,  50,  100, 150, 200]\n",
        "}\n",
        "CV_rfmodel = GridSearchCV(estimator=RForregCV, param_grid=param_grid, cv=10)\n",
        "CV_rfmodel.fit(X_train, Y_train)\n",
        "print(CV_rfmodel.best_params_)\n",
        "RForregCV = RForregCV.set_params(**CV_rfmodel.best_params_)\n",
        "RForregCV.fit(X_train, Y_train)\n",
        "Y_train_pred = RForregCV.predict(X_train)\n",
        "Y_train_dev = sum((Y_train-Y_train_pred)**2)\n",
        "r2 = 1 - Y_train_dev/Y_train_meandev\n",
        "print(\"R2 =\", r2)\n",
        "Y_test_pred = RForregCV.predict(X_test)\n",
        "Y_test_dev = sum((Y_test-Y_test_pred)**2)\n",
        "pseudor2 = 1 - Y_test_dev/Y_test_meandev\n",
        "print(\"Pseudo-R2 =\", pseudor2)\n",
        "report.loc[len(report)] = ['Random ForestCV', r2, pseudor2,\n",
        "           CV_rfmodel.cv_results_['mean_test_score'][CV_rfmodel.best_index_],\n",
        "           CV_rfmodel.cv_results_['std_test_score'][CV_rfmodel.best_index_]]"
      ]
    },
    {
      "cell_type": "markdown",
      "metadata": {
        "id": "YjoyeSw5xXmz"
      },
      "source": [
        "## KNN"
      ]
    },
    {
      "cell_type": "code",
      "execution_count": null,
      "metadata": {
        "id": "Rw2QR292xbuB"
      },
      "outputs": [],
      "source": [
        "from sklearn.neighbors import KNeighborsRegressor\n",
        "knnmodel = KNeighborsRegressor(n_neighbors=7)\n",
        "knnmodel.fit(X_train, Y_train)\n",
        "Y_train_pred = knnmodel.predict(X_train)\n",
        "Y_train_dev = sum((Y_train-Y_train_pred)**2)\n",
        "r2 = 1 - Y_train_dev/Y_train_meandev\n",
        "print(\"R2 =\", r2)\n",
        "Y_test_pred = knnmodel.predict(X_test)\n",
        "Y_test_dev = sum((Y_test-Y_test_pred)**2)\n",
        "pseudor2 = 1 - Y_test_dev/Y_test_meandev\n",
        "print(\"Pseudo-R2 =\", pseudor2)\n",
        "\n",
        "from sklearn.neighbors import KNeighborsRegressor\n",
        "knnmodelCV = KNeighborsRegressor()\n",
        "from sklearn.model_selection import GridSearchCV\n",
        "param_grid = { \n",
        "    'n_neighbors': range(3, 22, 2),\n",
        "}\n",
        "CV_knnmodel = GridSearchCV(estimator=knnmodelCV, param_grid=param_grid, cv=10)\n",
        "CV_knnmodel.fit(X_train, Y_train)\n",
        "print(CV_knnmodel.best_params_)\n",
        "knnmodelCV = knnmodelCV.set_params(**CV_knnmodel.best_params_)\n",
        "knnmodelCV.fit(X_train, Y_train)\n",
        "Y_train_pred = knnmodelCV.predict(X_train)\n",
        "Y_train_dev = sum((Y_train-Y_train_pred)**2)\n",
        "r2 = 1 - Y_train_dev/Y_train_meandev\n",
        "print(\"R2 =\", r2)\n",
        "Y_test_pred = knnmodelCV.predict(X_test)\n",
        "Y_test_dev = sum((Y_test-Y_test_pred)**2)\n",
        "pseudor2 = 1 - Y_test_dev/Y_test_meandev\n",
        "print(\"Pseudo-R2 =\", pseudor2)\n",
        "report.loc[len(report)] = ['k-Nearest NeighborsCV', r2, pseudor2,\n",
        "           CV_knnmodel.cv_results_['mean_test_score'][CV_knnmodel.best_index_],\n",
        "           CV_knnmodel.cv_results_['std_test_score'][CV_knnmodel.best_index_]]"
      ]
    },
    {
      "cell_type": "markdown",
      "metadata": {
        "id": "r4UwSyi5xeLo"
      },
      "source": [
        "# Final Report"
      ]
    },
    {
      "cell_type": "code",
      "execution_count": null,
      "metadata": {
        "id": "dTYh8rUNxkwc",
        "colab": {
          "base_uri": "https://localhost:8080/",
          "height": 164
        },
        "outputId": "d5876e15-ad6e-480d-e3ce-75e7cd1df189"
      },
      "outputs": [
        {
          "output_type": "error",
          "ename": "NameError",
          "evalue": "ignored",
          "traceback": [
            "\u001b[0;31m---------------------------------------------------------------------------\u001b[0m",
            "\u001b[0;31mNameError\u001b[0m                                 Traceback (most recent call last)",
            "\u001b[0;32m<ipython-input-1-5a129b136ed0>\u001b[0m in \u001b[0;36m<module>\u001b[0;34m()\u001b[0m\n\u001b[0;32m----> 1\u001b[0;31m \u001b[0mprint\u001b[0m\u001b[0;34m(\u001b[0m\u001b[0mreport\u001b[0m\u001b[0;34m)\u001b[0m\u001b[0;34m\u001b[0m\u001b[0;34m\u001b[0m\u001b[0m\n\u001b[0m",
            "\u001b[0;31mNameError\u001b[0m: name 'report' is not defined"
          ]
        }
      ],
      "source": [
        "print(report)"
      ]
    }
  ],
  "metadata": {
    "colab": {
      "name": "Analytics and Big Data.ipynb",
      "provenance": [],
      "collapsed_sections": [
        "LjJ7Qto7qHIn",
        "V4GbHhn-d1gD",
        "9VP85OpXwwfR",
        "y3-wN3gVw1hW",
        "qRpijD15w-YS",
        "QjYIUATexJhD",
        "Rr0M_fVgxPLU",
        "YjoyeSw5xXmz",
        "r4UwSyi5xeLo"
      ],
      "include_colab_link": true
    },
    "kernelspec": {
      "display_name": "Python 3",
      "name": "python3"
    },
    "language_info": {
      "name": "python"
    }
  },
  "nbformat": 4,
  "nbformat_minor": 0
}